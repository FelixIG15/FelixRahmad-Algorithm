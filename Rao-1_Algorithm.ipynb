{
 "cells": [
  {
   "cell_type": "markdown",
   "id": "e16be3fa-a5bc-4748-b012-e457532ef8f2",
   "metadata": {},
   "source": [
    "# Rao Algorithms\n",
    "used as optimization algorithm"
   ]
  },
  {
   "cell_type": "markdown",
   "id": "79697da7-0334-4f21-a161-9b6836894770",
   "metadata": {},
   "source": [
    "## function example:\n",
    "### $$y=x^2$$"
   ]
  },
  {
   "cell_type": "code",
   "execution_count": 154,
   "id": "ec1b1ca6-b9b9-4b85-a539-513eaf9ce048",
   "metadata": {},
   "outputs": [],
   "source": [
    "import numpy as np\n",
    "import random"
   ]
  },
  {
   "cell_type": "code",
   "execution_count": 155,
   "id": "8a77eaea-877b-462f-8a51-0c5cbb1b4f7f",
   "metadata": {},
   "outputs": [],
   "source": [
    "#range\n",
    "start=-100.0\n",
    "stop= 100.0\n",
    "accuracy= 0.1\n",
    "x= np.arange(start,stop,accuracy)"
   ]
  },
  {
   "cell_type": "code",
   "execution_count": 156,
   "id": "9fe25f93-d3cd-4a53-87b2-80f097787581",
   "metadata": {},
   "outputs": [],
   "source": [
    "def f(x):\n",
    "    return x**2"
   ]
  },
  {
   "cell_type": "code",
   "execution_count": 162,
   "id": "7de58e81-7d4a-41f5-8421-3b6acece608f",
   "metadata": {},
   "outputs": [],
   "source": [
    "#initial population\n",
    "#example: 5 candidates, 2 variables\n",
    "\n",
    "candidate=5\n",
    "variable=2\n",
    "iteration = 50\n",
    "x=[]\n",
    "y=[]\n",
    "\n",
    "for i in range(variable):\n",
    "    temp_x=[]\n",
    "    temp_y=[]\n",
    "    for j in range(candidate):\n",
    "        temp_x.append(np.round(random.uniform(start,stop),2))\n",
    "        temp_y.append(np.round(f(temp_x[j]),2))\n",
    "    x.append(temp_x)\n",
    "    y.append(temp_y)\n",
    "\n",
    "x= np.array(x)\n",
    "x_new = x.copy()\n",
    "y= np.array(y)\n",
    "y= y.sum(axis=0)"
   ]
  },
  {
   "cell_type": "code",
   "execution_count": 163,
   "id": "1fd93369-cef6-4fdf-ac5b-201bb3a9df0a",
   "metadata": {},
   "outputs": [],
   "source": [
    "for i in range(iteration):\n",
    "    #find index of best and worst result\n",
    "    best_index = y.argmin()\n",
    "    worst_index = y.argmax()\n",
    "    #generate new values\n",
    "    for i,j in enumerate(x_new):\n",
    "        for k in range(len(j)):\n",
    "            r = np.round(random.random(),3)\n",
    "            x_new[i,k] += r*(x_new[i,best_index] - x_new[i,worst_index])\n",
    "    y_new= f(x_new)\n",
    "    y_new= y_new.sum(axis=0)\n",
    "    #compare f(x) with previous f(x). keep if  f(x) is lower\n",
    "    iskeep = y_new > y\n",
    "    for index, elements in enumerate(x):\n",
    "        for inner_index in range(len(x)):\n",
    "            if iskeep[inner_index] == False:\n",
    "                x[index, inner_index]= x_new[index,inner_index]\n",
    "    y = np.fmin(y,y_new)\n",
    "\n",
    "    \n",
    "best_index = y.argmin()\n",
    "worst_index = y.argmax()\n",
    "status=[]\n",
    "for index in range(candidate):\n",
    "    status.append('-')\n",
    "\n",
    "status[best_index]= 'Best'\n",
    "status[worst_index]= 'Worst'"
   ]
  },
  {
   "cell_type": "code",
   "execution_count": 164,
   "id": "e85ddb3e-1334-4146-b4af-f5f79b9bf9a5",
   "metadata": {},
   "outputs": [],
   "source": [
    "#show final iteration result in table form\n",
    "import pandas as pd\n",
    "columns = variable\n",
    "col_name=[]\n",
    "for column in range(variable):\n",
    "    col_name.append(f'x{column+1}')\n",
    "    \n",
    "col_name.append('f(x)')\n",
    "col_name.append('status')"
   ]
  },
  {
   "cell_type": "code",
   "execution_count": 165,
   "id": "2a8c686b-8c3d-4a60-a1fc-1da6dfcc9ff6",
   "metadata": {},
   "outputs": [],
   "source": [
    "result_df = pd.DataFrame(list(zip(*x,y,status)), columns =col_name)"
   ]
  },
  {
   "cell_type": "code",
   "execution_count": 166,
   "id": "edba34d6-e34c-4e35-a571-d2ad5a0dc7ba",
   "metadata": {},
   "outputs": [
    {
     "data": {
      "text/html": [
       "<div>\n",
       "<style scoped>\n",
       "    .dataframe tbody tr th:only-of-type {\n",
       "        vertical-align: middle;\n",
       "    }\n",
       "\n",
       "    .dataframe tbody tr th {\n",
       "        vertical-align: top;\n",
       "    }\n",
       "\n",
       "    .dataframe thead th {\n",
       "        text-align: right;\n",
       "    }\n",
       "</style>\n",
       "<table border=\"1\" class=\"dataframe\">\n",
       "  <thead>\n",
       "    <tr style=\"text-align: right;\">\n",
       "      <th></th>\n",
       "      <th>x1</th>\n",
       "      <th>x2</th>\n",
       "      <th>f(x)</th>\n",
       "      <th>status</th>\n",
       "    </tr>\n",
       "  </thead>\n",
       "  <tbody>\n",
       "    <tr>\n",
       "      <th>0</th>\n",
       "      <td>-0.807235</td>\n",
       "      <td>-4.760813</td>\n",
       "      <td>23.316964</td>\n",
       "      <td>Best</td>\n",
       "    </tr>\n",
       "    <tr>\n",
       "      <th>1</th>\n",
       "      <td>1.914146</td>\n",
       "      <td>11.854579</td>\n",
       "      <td>144.195000</td>\n",
       "      <td>-</td>\n",
       "    </tr>\n",
       "    <tr>\n",
       "      <th>2</th>\n",
       "      <td>66.360000</td>\n",
       "      <td>-87.460000</td>\n",
       "      <td>429.114193</td>\n",
       "      <td>Worst</td>\n",
       "    </tr>\n",
       "    <tr>\n",
       "      <th>3</th>\n",
       "      <td>-13.670000</td>\n",
       "      <td>-20.740000</td>\n",
       "      <td>268.810304</td>\n",
       "      <td>-</td>\n",
       "    </tr>\n",
       "    <tr>\n",
       "      <th>4</th>\n",
       "      <td>6.170000</td>\n",
       "      <td>80.190000</td>\n",
       "      <td>106.762946</td>\n",
       "      <td>-</td>\n",
       "    </tr>\n",
       "  </tbody>\n",
       "</table>\n",
       "</div>"
      ],
      "text/plain": [
       "          x1         x2        f(x) status\n",
       "0  -0.807235  -4.760813   23.316964   Best\n",
       "1   1.914146  11.854579  144.195000      -\n",
       "2  66.360000 -87.460000  429.114193  Worst\n",
       "3 -13.670000 -20.740000  268.810304      -\n",
       "4   6.170000  80.190000  106.762946      -"
      ]
     },
     "execution_count": 166,
     "metadata": {},
     "output_type": "execute_result"
    }
   ],
   "source": [
    "result_df"
   ]
  }
 ],
 "metadata": {
  "kernelspec": {
   "display_name": "Python 3 (ipykernel)",
   "language": "python",
   "name": "python3"
  },
  "language_info": {
   "codemirror_mode": {
    "name": "ipython",
    "version": 3
   },
   "file_extension": ".py",
   "mimetype": "text/x-python",
   "name": "python",
   "nbconvert_exporter": "python",
   "pygments_lexer": "ipython3",
   "version": "3.8.12"
  }
 },
 "nbformat": 4,
 "nbformat_minor": 5
}
